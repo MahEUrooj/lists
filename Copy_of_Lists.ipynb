{
  "nbformat": 4,
  "nbformat_minor": 0,
  "metadata": {
    "colab": {
      "name": "Copy of Lists.ipynb",
      "provenance": [],
      "collapsed_sections": []
    },
    "kernelspec": {
      "name": "python3",
      "display_name": "Python 3"
    },
    "language_info": {
      "name": "python"
    }
  },
  "cells": [
    {
      "cell_type": "code",
      "execution_count": null,
      "metadata": {
        "colab": {
          "base_uri": "https://localhost:8080/"
        },
        "id": "eGf7uAQ1ra8O",
        "outputId": "55e33093-161a-429f-f858-eab64da6fbc2"
      },
      "outputs": [
        {
          "output_type": "stream",
          "name": "stdout",
          "text": [
            "['Atlanta', 'Baltimore', 'Chicago', 'Denver', 'Los Angeles', 'Seattle']\n",
            "['New York', 'Atlanta', 'Baltimore', 'Chicago', 'Denver', 'Los Angeles', 'Seattle']\n",
            "Denver\n",
            "['New York', 'Atlanta', 'Baltimore', 'Chicago', 'Denver', 'Los Angeles', 'Seattle', 'San Diego']\n"
          ]
        }
      ],
      "source": [
        "cities=['Atlanta','Baltimore','Chicago','Denver','Los Angeles','Seattle']\n",
        "print(cities)\n",
        "cities.insert(0,'New York')\n",
        "print(cities[:])\n",
        "print(cities[4])\n",
        "cities.append(\"San Diego\")\n",
        "print(cities[:])"
      ]
    },
    {
      "cell_type": "code",
      "source": [
        "fruits=[\"banana\",\"apple\",\"guava\",\"straw-berry\",\"pine-apple\",\"orange\"]\n",
        "fruits.append(\"mango\")\n",
        "print(fruits[:])\n",
        "print(fruits[2:5])\n",
        "len(fruits)\n",
        "print(fruits[1][3])"
      ],
      "metadata": {
        "colab": {
          "base_uri": "https://localhost:8080/"
        },
        "id": "nE9MErnlr8ID",
        "outputId": "0310caaf-186f-41e1-9cdd-1f64390587ac"
      },
      "execution_count": null,
      "outputs": [
        {
          "output_type": "stream",
          "name": "stdout",
          "text": [
            "['banana', 'apple', 'guava', 'straw-berry', 'pine-apple', 'orange', 'mango']\n",
            "['guava', 'straw-berry', 'pine-apple']\n",
            "l\n"
          ]
        }
      ]
    },
    {
      "cell_type": "code",
      "source": [
        "bicycles=['trek','cannonable','redline','specialized']\n",
        "print(bicycles[2:4])\n",
        "print(bicycles[0].title())"
      ],
      "metadata": {
        "colab": {
          "base_uri": "https://localhost:8080/"
        },
        "id": "-ydnaR4LtHw7",
        "outputId": "4b5d8ecb-4a4a-47b1-f43d-0206bb7b63af"
      },
      "execution_count": null,
      "outputs": [
        {
          "output_type": "stream",
          "name": "stdout",
          "text": [
            "['redline', 'specialized']\n",
            "Trek\n"
          ]
        }
      ]
    },
    {
      "cell_type": "code",
      "source": [
        "motorcycles=[\"honda\",\"yamaha\",\"suzuki\"]\n",
        "print(motorcycles)\n",
        "motorcycles[0]=\"ducati\"\n",
        "print(motorcycles)"
      ],
      "metadata": {
        "colab": {
          "base_uri": "https://localhost:8080/"
        },
        "id": "ojXilXGlupda",
        "outputId": "0e79a98e-9e50-41f1-ba8c-bec100ccc664"
      },
      "execution_count": null,
      "outputs": [
        {
          "output_type": "stream",
          "name": "stdout",
          "text": [
            "['honda', 'yamaha', 'suzuki']\n",
            "['ducati', 'yamaha', 'suzuki']\n"
          ]
        }
      ]
    },
    {
      "cell_type": "code",
      "source": [
        "names=[\"Ali\",\"Yasir\",\"Ahmed\"]\n",
        "names.append('ABC')\n",
        "names[:]"
      ],
      "metadata": {
        "colab": {
          "base_uri": "https://localhost:8080/"
        },
        "id": "a75UgD2sv1ix",
        "outputId": "e395ee68-e39d-461c-9be4-6750aaa8c2f7"
      },
      "execution_count": null,
      "outputs": [
        {
          "output_type": "execute_result",
          "data": {
            "text/plain": [
              "['Ali', 'Yasir', 'Ahmed', 'ABC']"
            ]
          },
          "metadata": {},
          "execution_count": 27
        }
      ]
    },
    {
      "cell_type": "code",
      "source": [
        "cars=['bmw','audi','toyota','honda']\n",
        "cars.sort()\n",
        "cars[:]\n",
        "\n"
      ],
      "metadata": {
        "colab": {
          "base_uri": "https://localhost:8080/"
        },
        "id": "F4ABO-Aov6io",
        "outputId": "155429e2-41cf-403e-8f16-1895dcb1fb08"
      },
      "execution_count": null,
      "outputs": [
        {
          "output_type": "execute_result",
          "data": {
            "text/plain": [
              "['audi', 'bmw', 'honda', 'toyota']"
            ]
          },
          "metadata": {},
          "execution_count": 30
        }
      ]
    },
    {
      "cell_type": "code",
      "source": [
        "abc=[-2,0,1,2,3,4,7,7,9,44]\n",
        "abc[:]\n",
        "print(sorted(abc))"
      ],
      "metadata": {
        "colab": {
          "base_uri": "https://localhost:8080/"
        },
        "id": "Srj2MNOUyojr",
        "outputId": "47749b49-5cd6-4185-bcd3-6aa8113e7bac"
      },
      "execution_count": null,
      "outputs": [
        {
          "output_type": "stream",
          "name": "stdout",
          "text": [
            "[-2, 0, 1, 2, 3, 4, 7, 7, 9, 44]\n"
          ]
        }
      ]
    },
    {
      "cell_type": "code",
      "source": [
        "abc.sort(reverse=True)\n",
        "abc[:]"
      ],
      "metadata": {
        "colab": {
          "base_uri": "https://localhost:8080/"
        },
        "id": "Acm67ZhxzvVc",
        "outputId": "6a6001fd-f123-431c-fe15-83ed07037301"
      },
      "execution_count": null,
      "outputs": [
        {
          "output_type": "execute_result",
          "data": {
            "text/plain": [
              "[44, 9, 7, 7, 4, 3, 2, 1, 0, -2]"
            ]
          },
          "metadata": {},
          "execution_count": 35
        }
      ]
    },
    {
      "cell_type": "code",
      "source": [
        "abc=(\"Delaware\",\"Pennysylvania\",\"New Jersey\",5)\n",
        "abc[:]"
      ],
      "metadata": {
        "colab": {
          "base_uri": "https://localhost:8080/"
        },
        "id": "jdQeASCOz5o1",
        "outputId": "18c153d7-6c37-49b2-d181-58cbc8e2858b"
      },
      "execution_count": null,
      "outputs": [
        {
          "output_type": "execute_result",
          "data": {
            "text/plain": [
              "('Delaware', 'Pennysylvania', 'New Jersey', 5)"
            ]
          },
          "metadata": {},
          "execution_count": 36
        }
      ]
    },
    {
      "cell_type": "code",
      "source": [
        "Pak_cities=['Islamabad','Karachi','Lahore','Quetta','Abbottabad','Rawalpindi','Jacobabad','Dadu','Sibbi','Murree']\n",
        "print(sorted(Pak_cities))\n",
        "Pak_cities.sort(reverse=True)\n",
        "Pak_cities[:]\n"
      ],
      "metadata": {
        "colab": {
          "base_uri": "https://localhost:8080/"
        },
        "id": "W16AhaCO2ffC",
        "outputId": "fdaf0cd3-cd4e-419e-89ff-c96f082cb535"
      },
      "execution_count": 1,
      "outputs": [
        {
          "output_type": "stream",
          "name": "stdout",
          "text": [
            "['Abbottabad', 'Dadu', 'Islamabad', 'Jacobabad', 'Karachi', 'Lahore', 'Murree', 'Quetta', 'Rawalpindi', 'Sibbi']\n"
          ]
        },
        {
          "output_type": "execute_result",
          "data": {
            "text/plain": [
              "['Sibbi',\n",
              " 'Rawalpindi',\n",
              " 'Quetta',\n",
              " 'Murree',\n",
              " 'Lahore',\n",
              " 'Karachi',\n",
              " 'Jacobabad',\n",
              " 'Islamabad',\n",
              " 'Dadu',\n",
              " 'Abbottabad']"
            ]
          },
          "metadata": {},
          "execution_count": 1
        }
      ]
    },
    {
      "cell_type": "code",
      "source": [
        "Pak_cities=['Islamabad','Karachi','Lahore','Quetta','Abbottabad','Rawalpindi','Jacobabad','Dadu','Sibbi','Murree']\n",
        "print(Pak_cities[3:8])\n"
      ],
      "metadata": {
        "colab": {
          "base_uri": "https://localhost:8080/"
        },
        "id": "Aeij9-_W4AyG",
        "outputId": "9231fe79-c7f3-453f-ac66-0bf477335fab"
      },
      "execution_count": null,
      "outputs": [
        {
          "output_type": "stream",
          "name": "stdout",
          "text": [
            "['Quetta', 'Appotabad', 'Rawalpindi', 'Jacobabad', 'Dadu']\n"
          ]
        }
      ]
    },
    {
      "cell_type": "code",
      "source": [
        ""
      ],
      "metadata": {
        "id": "60gfxWaD5dIg"
      },
      "execution_count": null,
      "outputs": []
    }
  ]
}